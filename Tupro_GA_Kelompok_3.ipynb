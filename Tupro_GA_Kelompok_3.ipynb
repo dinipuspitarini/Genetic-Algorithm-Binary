{
  "nbformat": 4,
  "nbformat_minor": 0,
  "metadata": {
    "colab": {
      "name": "Tupro GA Kelompok 3.ipynb",
      "provenance": [],
      "collapsed_sections": [],
      "include_colab_link": true
    },
    "kernelspec": {
      "name": "python3",
      "display_name": "Python 3"
    },
    "language_info": {
      "name": "python"
    }
  },
  "cells": [
    {
      "cell_type": "markdown",
      "metadata": {
        "id": "view-in-github",
        "colab_type": "text"
      },
      "source": [
        "<a href=\"https://colab.research.google.com/github/dinipuspitarini/genetic-algorithm-binary/blob/main/Tupro_GA_Kelompok_3.ipynb\" target=\"_parent\"><img src=\"https://colab.research.google.com/assets/colab-badge.svg\" alt=\"Open In Colab\"/></a>"
      ]
    },
    {
      "cell_type": "markdown",
      "metadata": {
        "id": "0k5pA81Gzp3w"
      },
      "source": [
        "# Tugas Pemrograman AI Genetic Algorithm \n",
        "Kelas : IF-43-09\n",
        "\n",
        "Kelompok : 3\n",
        "\n",
        "Anggota Kelompok :\n",
        "1. Ni Made Dwipadini Puspitarini (1301194141)\n",
        "2. Iqbal Saviola Syah Billhaq\t\t(1301190318)\n",
        "3. Afrizal Syahruluddin Yusuf\t\t(1301194288)\n",
        "\n",
        "\n",
        "\n"
      ]
    },
    {
      "cell_type": "code",
      "metadata": {
        "id": "LLw8r4crANFS"
      },
      "source": [
        "import matplotlib.pyplot as plt\n",
        "import math\n",
        "import random"
      ],
      "execution_count": 1,
      "outputs": []
    },
    {
      "cell_type": "markdown",
      "metadata": {
        "id": "hqRPqhBHHbmF"
      },
      "source": [
        "# Variabel Global"
      ]
    },
    {
      "cell_type": "code",
      "metadata": {
        "id": "7aApVVM8GVcJ"
      },
      "source": [
        "#Variabel Global\n",
        "probCross = 0.8 #probabilitas untuk crossover\n",
        "probMut = 0.2 #probabilitas untuk mutasi\n",
        "lenKrom = 20 #satu kromosom terdiri dari 20 gen\n",
        "jmlPop = 60 #jumlah populasi\n",
        "gen = 50 #jumlah generasi\n",
        "xran = {\"min\" : -1, \"max\" : 2} #range untuk nilai x \n",
        "yran = {\"min\" : -1, \"max\" : 1} #range untuk nilai y"
      ],
      "execution_count": 2,
      "outputs": []
    },
    {
      "cell_type": "markdown",
      "metadata": {
        "id": "sDDGbaUeHffb"
      },
      "source": [
        "# Procedure dan Function"
      ]
    },
    {
      "cell_type": "code",
      "metadata": {
        "id": "NdZGkBgGAPlM"
      },
      "source": [
        "def fungsi(x, y):\n",
        "    return((math.cos(x**2) * math.sin(y**2)) + (x + y))"
      ],
      "execution_count": 3,
      "outputs": []
    },
    {
      "cell_type": "code",
      "metadata": {
        "id": "-EKSzwmwARjp"
      },
      "source": [
        "def generate_populasi(lenKrom, n):\n",
        "    pop = []\n",
        "    for i in range(n):\n",
        "        krom = []\n",
        "        for j in range(lenKrom):\n",
        "            krom.append(random.randint(0, 1))\n",
        "        pop.append(krom)\n",
        "    return pop"
      ],
      "execution_count": 4,
      "outputs": []
    },
    {
      "cell_type": "code",
      "metadata": {
        "id": "hYi9teMPAXEX"
      },
      "source": [
        "def decode_kromosom(krom,xran,yran):\n",
        "    mid = len(krom)//2 #titik potong untuk kromosom\n",
        "\n",
        "    #menghitung rumus (g1.(2^-1) + g2.(2^-2) + ... + gi.(2^-i)) untuk x \n",
        "    gx = 0\n",
        "    mid_x = krom[:mid]\n",
        "    for i in range(1, mid+1):\n",
        "        gx = gx + (mid_x[i-1] * (2**-i)) \n",
        "\n",
        "    #menghitung rumus (g1.(2^-1) + g2.(2^-2) + ... + gi.(2^-i)) untuk y\n",
        "    gy = 0\n",
        "    mid_y = krom[mid:]\n",
        "    for i in range(1, mid+1):\n",
        "        gy = gy + (mid_y[i-1] * (2**-i))\n",
        "    \n",
        "    #menghitung nilai sum 2^-i\n",
        "    total = sum([2**-(i) for i in range(1, mid+1)])\n",
        "\n",
        "    x = xran[\"min\"] + (gx * (xran[\"max\"] - xran[\"min\"]) / total)\n",
        "    y = yran[\"min\"] + (gy * (yran[\"max\"] - yran[\"min\"]) / total)\n",
        "\n",
        "    return x, y"
      ],
      "execution_count": 5,
      "outputs": []
    },
    {
      "cell_type": "code",
      "metadata": {
        "id": "sSEUMnh_Adi3"
      },
      "source": [
        "def fitness_score(x, y):\n",
        "    return fungsi(x, y) #memaksimalkan nilai fungsi sehingga f = h"
      ],
      "execution_count": 6,
      "outputs": []
    },
    {
      "cell_type": "code",
      "metadata": {
        "id": "ekMpMguFAhyY"
      },
      "source": [
        "#Seleksi orang tua menggunakan teknik tournament selection\n",
        "def tournament_selection(pop, fitness):\n",
        "    bestparent = random.sample(list(zip(pop,fitness)),random.randint(2, jmlPop))\n",
        "    bestparent = sorted(bestparent,key= lambda k:k[1],reverse=True)\n",
        "    return [bestparent[0][0], bestparent[1][0]]"
      ],
      "execution_count": 7,
      "outputs": []
    },
    {
      "cell_type": "code",
      "metadata": {
        "id": "ttoLJp0eAk29"
      },
      "source": [
        "#Elitisme berfungsi untuk menyimpan 2 kromosom dengan fitness terbaik \n",
        "def elitisme(pop, fitness):\n",
        "    elite = zip(pop, fitness)\n",
        "    elite = sorted(elite,key= lambda k:k[1],reverse=True)\n",
        "    return [elite[0][0], elite[1][0]]"
      ],
      "execution_count": 8,
      "outputs": []
    },
    {
      "cell_type": "code",
      "metadata": {
        "id": "bhl23ljZAm_L"
      },
      "source": [
        "#Teknik one point crossover\n",
        "def crossover(parent1, parent2, probCross):\n",
        "    child1 = parent1\n",
        "    child2 = parent2\n",
        "    if random.random() <= probCross:\n",
        "        crossPoint = random.randint(1, (lenKrom)-1) #menentukan titik cut off\n",
        "        child1 = parent1[:crossPoint] + parent2[crossPoint:]\n",
        "        child2 = parent2[:crossPoint] + parent1[crossPoint:]\n",
        "    return child1, child2"
      ],
      "execution_count": 9,
      "outputs": []
    },
    {
      "cell_type": "code",
      "metadata": {
        "id": "WdMAbaiVAqEr"
      },
      "source": [
        "#Mutasi untuk representasi biner\n",
        "def mutasi(krom, probMut):\n",
        "    for i in range(len(krom)):\n",
        "        if random.random() <= probMut:\n",
        "            if krom[i] == 0:\n",
        "                krom[i] = 1\n",
        "            else:\n",
        "                krom[i] = 0\n",
        "    return krom"
      ],
      "execution_count": 10,
      "outputs": []
    },
    {
      "cell_type": "markdown",
      "metadata": {
        "id": "6Wnou2X2HYlA"
      },
      "source": [
        "# Main Program"
      ]
    },
    {
      "cell_type": "code",
      "metadata": {
        "colab": {
          "base_uri": "https://localhost:8080/",
          "height": 1000
        },
        "id": "QmfeQkFbAsIm",
        "outputId": "a6c02ec6-dfeb-426a-aa2e-615b95b0bba3"
      },
      "source": [
        "#Main Program\n",
        "bestfitness = []\n",
        "pop = generate_populasi(lenKrom, jmlPop)\n",
        "for i in range(gen):\n",
        "    fitness = []\n",
        "    for krom in pop:\n",
        "        x, y = decode_kromosom(krom, xran, yran)\n",
        "        fitness.append(fitness_score(x, y))\n",
        "    bestfitness.append(max(fitness))\n",
        "    newPop = elitisme(pop, fitness)\n",
        "    print(f\"Gen ke : {i+1}\")\n",
        "    print(f\"Kromosom Terbaik : {newPop[0]}, fitness : {max(bestfitness)}, (x, y) : {decode_kromosom(pop[0], xran, yran)}\")\n",
        "    while len(newPop) < jmlPop:\n",
        "        [parent1, parent2] = tournament_selection(pop.copy(), fitness)\n",
        "        child1, child2 = crossover(parent1.copy(), parent2.copy(), probCross)\n",
        "        child1 = mutasi(child1, probMut)\n",
        "        child2 = mutasi(child2, probMut)\n",
        "        newPop.append(child1)\n",
        "        newPop.append(child2)\n",
        "    pop = newPop\n",
        "\n",
        "print(\" \")    \n",
        "print(\"=============================BEST SOLUTION=============================\")\n",
        "best = list(zip(pop, fitness))\n",
        "print(\"Fitness Terbaik : \", best[0][1])\n",
        "print(\"Kromosom Terbaik : \", best[0][0])\n",
        "print(\"(x, y) : \", decode_kromosom(best[0][0], xran, yran))\n",
        "print(\" \")\n",
        "\n",
        "plt.plot(bestfitness)\n",
        "plt.title(\"Perubahan Fitness\")\n",
        "plt.xlabel(\"Generasi\")\n",
        "plt.ylabel(\"Fitness\")\n",
        "plt.show()"
      ],
      "execution_count": 11,
      "outputs": [
        {
          "output_type": "stream",
          "name": "stdout",
          "text": [
            "Gen ke : 1\n",
            "Kromosom Terbaik : [1, 0, 0, 1, 1, 0, 1, 1, 0, 1, 1, 1, 1, 1, 0, 1, 1, 0, 1, 1], fitness : 2.3448820122910288, (x, y) : (0.3489736070381231, 0.8435972629521016)\n",
            "Gen ke : 2\n",
            "Kromosom Terbaik : [1, 0, 0, 1, 0, 0, 1, 0, 0, 1, 1, 1, 1, 1, 1, 1, 1, 1, 0, 1], fitness : 2.4414996154656516, (x, y) : (0.8211143695014662, 0.9296187683284458)\n",
            "Gen ke : 3\n",
            "Kromosom Terbaik : [1, 0, 0, 1, 0, 0, 1, 0, 0, 1, 1, 1, 1, 1, 1, 1, 1, 1, 0, 1], fitness : 2.4414996154656516, (x, y) : (0.7155425219941349, 0.9960899315738025)\n",
            "Gen ke : 4\n",
            "Kromosom Terbaik : [1, 0, 0, 1, 1, 0, 1, 1, 0, 1, 1, 1, 1, 1, 1, 1, 1, 1, 0, 0], fitness : 2.4676154473316116, (x, y) : (0.7155425219941349, 0.9960899315738025)\n",
            "Gen ke : 5\n",
            "Kromosom Terbaik : [1, 0, 1, 0, 0, 0, 0, 0, 0, 1, 1, 1, 1, 1, 1, 1, 1, 1, 0, 0], fitness : 2.4711007608581985, (x, y) : (0.8211143695014662, 0.9941348973607038)\n",
            "Gen ke : 6\n",
            "Kromosom Terbaik : [1, 0, 1, 0, 0, 0, 1, 0, 0, 1, 1, 1, 1, 1, 1, 1, 1, 1, 1, 1], fitness : 2.479863755645809, (x, y) : (0.8797653958944283, 0.9941348973607038)\n",
            "Gen ke : 7\n",
            "Kromosom Terbaik : [1, 0, 1, 0, 0, 0, 1, 0, 0, 1, 1, 1, 1, 1, 1, 1, 1, 1, 1, 1], fitness : 2.479863755645809, (x, y) : (0.903225806451613, 1.0)\n",
            "Gen ke : 8\n",
            "Kromosom Terbaik : [1, 0, 1, 0, 0, 0, 1, 0, 0, 1, 1, 1, 1, 1, 1, 1, 1, 1, 1, 1], fitness : 2.479863755645809, (x, y) : (0.903225806451613, 1.0)\n",
            "Gen ke : 9\n",
            "Kromosom Terbaik : [1, 0, 1, 0, 0, 0, 1, 0, 0, 1, 1, 1, 1, 1, 1, 1, 1, 1, 1, 1], fitness : 2.479863755645809, (x, y) : (0.903225806451613, 1.0)\n",
            "Gen ke : 10\n",
            "Kromosom Terbaik : [1, 0, 1, 0, 0, 0, 1, 0, 0, 0, 1, 1, 1, 1, 1, 1, 1, 1, 1, 1], fitness : 2.4801643346786864, (x, y) : (0.903225806451613, 1.0)\n",
            "Gen ke : 11\n",
            "Kromosom Terbaik : [1, 0, 1, 0, 0, 0, 0, 0, 1, 0, 1, 1, 1, 1, 1, 1, 1, 1, 1, 1], fitness : 2.4814105166206115, (x, y) : (0.9002932551319649, 1.0)\n",
            "Gen ke : 12\n",
            "Kromosom Terbaik : [1, 0, 0, 1, 1, 1, 1, 0, 0, 1, 1, 1, 1, 1, 1, 1, 1, 1, 1, 1], fitness : 2.48151593909905, (x, y) : (0.8826979472140764, 1.0)\n",
            "Gen ke : 13\n",
            "Kromosom Terbaik : [1, 0, 0, 1, 1, 1, 1, 0, 0, 1, 1, 1, 1, 1, 1, 1, 1, 1, 1, 1], fitness : 2.48151593909905, (x, y) : (0.8563049853372433, 1.0)\n",
            "Gen ke : 14\n",
            "Kromosom Terbaik : [1, 0, 0, 1, 1, 1, 1, 1, 0, 1, 1, 1, 1, 1, 1, 1, 1, 1, 1, 1], fitness : 2.481727432155131, (x, y) : (0.8563049853372433, 1.0)\n",
            "Gen ke : 15\n",
            "Kromosom Terbaik : [1, 0, 0, 1, 1, 1, 1, 1, 0, 1, 1, 1, 1, 1, 1, 1, 1, 1, 1, 1], fitness : 2.481727432155131, (x, y) : (0.8680351906158357, 1.0)\n",
            "Gen ke : 16\n",
            "Kromosom Terbaik : [1, 0, 0, 1, 1, 1, 1, 1, 0, 1, 1, 1, 1, 1, 1, 1, 1, 1, 1, 1], fitness : 2.481727432155131, (x, y) : (0.8680351906158357, 1.0)\n",
            "Gen ke : 17\n",
            "Kromosom Terbaik : [1, 0, 0, 1, 1, 1, 1, 1, 0, 1, 1, 1, 1, 1, 1, 1, 1, 1, 1, 1], fitness : 2.481727432155131, (x, y) : (0.8680351906158357, 1.0)\n",
            "Gen ke : 18\n",
            "Kromosom Terbaik : [1, 0, 0, 1, 1, 1, 1, 1, 0, 1, 1, 1, 1, 1, 1, 1, 1, 1, 1, 1], fitness : 2.481727432155131, (x, y) : (0.8680351906158357, 1.0)\n",
            "Gen ke : 19\n",
            "Kromosom Terbaik : [1, 0, 0, 1, 1, 1, 1, 1, 0, 1, 1, 1, 1, 1, 1, 1, 1, 1, 1, 1], fitness : 2.481727432155131, (x, y) : (0.8680351906158357, 1.0)\n",
            "Gen ke : 20\n",
            "Kromosom Terbaik : [1, 0, 0, 1, 1, 1, 1, 1, 0, 1, 1, 1, 1, 1, 1, 1, 1, 1, 1, 1], fitness : 2.481727432155131, (x, y) : (0.8680351906158357, 1.0)\n",
            "Gen ke : 21\n",
            "Kromosom Terbaik : [1, 0, 0, 1, 1, 1, 1, 1, 0, 1, 1, 1, 1, 1, 1, 1, 1, 1, 1, 1], fitness : 2.481727432155131, (x, y) : (0.8680351906158357, 1.0)\n",
            "Gen ke : 22\n",
            "Kromosom Terbaik : [1, 0, 0, 1, 1, 1, 1, 1, 0, 1, 1, 1, 1, 1, 1, 1, 1, 1, 1, 1], fitness : 2.481727432155131, (x, y) : (0.8680351906158357, 1.0)\n",
            "Gen ke : 23\n",
            "Kromosom Terbaik : [1, 0, 0, 1, 1, 1, 1, 1, 0, 1, 1, 1, 1, 1, 1, 1, 1, 1, 1, 1], fitness : 2.481727432155131, (x, y) : (0.8680351906158357, 1.0)\n",
            "Gen ke : 24\n",
            "Kromosom Terbaik : [1, 0, 0, 1, 1, 1, 1, 1, 0, 1, 1, 1, 1, 1, 1, 1, 1, 1, 1, 1], fitness : 2.481727432155131, (x, y) : (0.8680351906158357, 1.0)\n",
            "Gen ke : 25\n",
            "Kromosom Terbaik : [1, 0, 0, 1, 1, 1, 1, 1, 0, 1, 1, 1, 1, 1, 1, 1, 1, 1, 1, 1], fitness : 2.481727432155131, (x, y) : (0.8680351906158357, 1.0)\n",
            "Gen ke : 26\n",
            "Kromosom Terbaik : [1, 0, 0, 1, 1, 1, 1, 1, 0, 1, 1, 1, 1, 1, 1, 1, 1, 1, 1, 1], fitness : 2.481727432155131, (x, y) : (0.8680351906158357, 1.0)\n",
            "Gen ke : 27\n",
            "Kromosom Terbaik : [1, 0, 0, 1, 1, 1, 1, 1, 0, 1, 1, 1, 1, 1, 1, 1, 1, 1, 1, 1], fitness : 2.481727432155131, (x, y) : (0.8680351906158357, 1.0)\n",
            "Gen ke : 28\n",
            "Kromosom Terbaik : [1, 0, 0, 1, 1, 1, 1, 1, 0, 1, 1, 1, 1, 1, 1, 1, 1, 1, 1, 1], fitness : 2.481727432155131, (x, y) : (0.8680351906158357, 1.0)\n",
            "Gen ke : 29\n",
            "Kromosom Terbaik : [1, 0, 0, 1, 1, 1, 1, 1, 0, 1, 1, 1, 1, 1, 1, 1, 1, 1, 1, 1], fitness : 2.481727432155131, (x, y) : (0.8680351906158357, 1.0)\n",
            "Gen ke : 30\n",
            "Kromosom Terbaik : [1, 0, 0, 1, 1, 1, 1, 1, 0, 1, 1, 1, 1, 1, 1, 1, 1, 1, 1, 1], fitness : 2.481727432155131, (x, y) : (0.8680351906158357, 1.0)\n",
            "Gen ke : 31\n",
            "Kromosom Terbaik : [1, 0, 0, 1, 1, 1, 1, 1, 0, 1, 1, 1, 1, 1, 1, 1, 1, 1, 1, 1], fitness : 2.481727432155131, (x, y) : (0.8680351906158357, 1.0)\n",
            "Gen ke : 32\n",
            "Kromosom Terbaik : [1, 0, 0, 1, 1, 1, 1, 1, 0, 1, 1, 1, 1, 1, 1, 1, 1, 1, 1, 1], fitness : 2.481727432155131, (x, y) : (0.8680351906158357, 1.0)\n",
            "Gen ke : 33\n",
            "Kromosom Terbaik : [1, 0, 0, 1, 1, 1, 1, 1, 0, 1, 1, 1, 1, 1, 1, 1, 1, 1, 1, 1], fitness : 2.481727432155131, (x, y) : (0.8680351906158357, 1.0)\n",
            "Gen ke : 34\n",
            "Kromosom Terbaik : [1, 0, 0, 1, 1, 1, 1, 1, 0, 1, 1, 1, 1, 1, 1, 1, 1, 1, 1, 1], fitness : 2.481727432155131, (x, y) : (0.8680351906158357, 1.0)\n",
            "Gen ke : 35\n",
            "Kromosom Terbaik : [1, 0, 0, 1, 1, 1, 1, 1, 0, 1, 1, 1, 1, 1, 1, 1, 1, 1, 1, 1], fitness : 2.481727432155131, (x, y) : (0.8680351906158357, 1.0)\n",
            "Gen ke : 36\n",
            "Kromosom Terbaik : [1, 0, 0, 1, 1, 1, 1, 1, 0, 1, 1, 1, 1, 1, 1, 1, 1, 1, 1, 1], fitness : 2.481727432155131, (x, y) : (0.8680351906158357, 1.0)\n",
            "Gen ke : 37\n",
            "Kromosom Terbaik : [1, 0, 0, 1, 1, 1, 1, 1, 0, 1, 1, 1, 1, 1, 1, 1, 1, 1, 1, 1], fitness : 2.481727432155131, (x, y) : (0.8680351906158357, 1.0)\n",
            "Gen ke : 38\n",
            "Kromosom Terbaik : [1, 0, 0, 1, 1, 1, 1, 1, 0, 1, 1, 1, 1, 1, 1, 1, 1, 1, 1, 1], fitness : 2.481727432155131, (x, y) : (0.8680351906158357, 1.0)\n",
            "Gen ke : 39\n",
            "Kromosom Terbaik : [1, 0, 0, 1, 1, 1, 1, 1, 0, 1, 1, 1, 1, 1, 1, 1, 1, 1, 1, 1], fitness : 2.481727432155131, (x, y) : (0.8680351906158357, 1.0)\n",
            "Gen ke : 40\n",
            "Kromosom Terbaik : [1, 0, 0, 1, 1, 1, 1, 1, 0, 1, 1, 1, 1, 1, 1, 1, 1, 1, 1, 1], fitness : 2.481727432155131, (x, y) : (0.8680351906158357, 1.0)\n",
            "Gen ke : 41\n",
            "Kromosom Terbaik : [1, 0, 0, 1, 1, 1, 1, 1, 0, 1, 1, 1, 1, 1, 1, 1, 1, 1, 1, 1], fitness : 2.481727432155131, (x, y) : (0.8680351906158357, 1.0)\n",
            "Gen ke : 42\n",
            "Kromosom Terbaik : [1, 0, 0, 1, 1, 1, 1, 1, 0, 1, 1, 1, 1, 1, 1, 1, 1, 1, 1, 1], fitness : 2.481727432155131, (x, y) : (0.8680351906158357, 1.0)\n",
            "Gen ke : 43\n",
            "Kromosom Terbaik : [1, 0, 0, 1, 1, 1, 1, 1, 0, 1, 1, 1, 1, 1, 1, 1, 1, 1, 1, 1], fitness : 2.481727432155131, (x, y) : (0.8680351906158357, 1.0)\n",
            "Gen ke : 44\n",
            "Kromosom Terbaik : [1, 0, 0, 1, 1, 1, 1, 1, 0, 1, 1, 1, 1, 1, 1, 1, 1, 1, 1, 1], fitness : 2.481727432155131, (x, y) : (0.8680351906158357, 1.0)\n",
            "Gen ke : 45\n",
            "Kromosom Terbaik : [1, 0, 0, 1, 1, 1, 1, 1, 0, 1, 1, 1, 1, 1, 1, 1, 1, 1, 1, 1], fitness : 2.481727432155131, (x, y) : (0.8680351906158357, 1.0)\n",
            "Gen ke : 46\n",
            "Kromosom Terbaik : [1, 0, 0, 1, 1, 1, 1, 1, 0, 1, 1, 1, 1, 1, 1, 1, 1, 1, 1, 1], fitness : 2.481727432155131, (x, y) : (0.8680351906158357, 1.0)\n",
            "Gen ke : 47\n",
            "Kromosom Terbaik : [1, 0, 0, 1, 1, 1, 1, 1, 0, 1, 1, 1, 1, 1, 1, 1, 1, 1, 1, 1], fitness : 2.481727432155131, (x, y) : (0.8680351906158357, 1.0)\n",
            "Gen ke : 48\n",
            "Kromosom Terbaik : [1, 0, 0, 1, 1, 1, 1, 1, 0, 1, 1, 1, 1, 1, 1, 1, 1, 1, 1, 1], fitness : 2.481727432155131, (x, y) : (0.8680351906158357, 1.0)\n",
            "Gen ke : 49\n",
            "Kromosom Terbaik : [1, 0, 0, 1, 1, 1, 1, 1, 0, 1, 1, 1, 1, 1, 1, 1, 1, 1, 1, 1], fitness : 2.481727432155131, (x, y) : (0.8680351906158357, 1.0)\n",
            "Gen ke : 50\n",
            "Kromosom Terbaik : [1, 0, 0, 1, 1, 1, 1, 1, 0, 1, 1, 1, 1, 1, 1, 1, 1, 1, 1, 1], fitness : 2.481727432155131, (x, y) : (0.8680351906158357, 1.0)\n",
            " \n",
            "=============================BEST SOLUTION=============================\n",
            "Fitness Terbaik :  2.481727432155131\n",
            "Kromosom Terbaik :  [1, 0, 0, 1, 1, 1, 1, 1, 0, 1, 1, 1, 1, 1, 1, 1, 1, 1, 1, 1]\n",
            "(x, y) :  (0.8680351906158357, 1.0)\n",
            " \n"
          ]
        },
        {
          "output_type": "display_data",
          "data": {
            "image/png": "[encoded data removed]",
            "text/plain": [
              "<Figure size 432x288 with 1 Axes>"
            ]
          },
          "metadata": {
            "needs_background": "light"
          }
        }
      ]
    }
  ]
}